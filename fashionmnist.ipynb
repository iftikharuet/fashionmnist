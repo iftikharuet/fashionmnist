{
  "nbformat": 4,
  "nbformat_minor": 0,
  "metadata": {
    "colab": {
      "name": "fashionmnist.ipynb",
      "provenance": []
    },
    "kernelspec": {
      "name": "python3",
      "display_name": "Python 3"
    },
    "accelerator": "GPU"
  },
  "cells": [
    {
      "cell_type": "code",
      "metadata": {
        "id": "_ub2xZKiR9QQ"
      },
      "source": [
        "import numpy as np\r\n",
        "import matplotlib.pyplot as plt\r\n",
        "import seaborn as sns\r\n",
        "from tensorflow import keras\r\n",
        "import pandas as pd"
      ],
      "execution_count": 1,
      "outputs": []
    },
    {
      "cell_type": "code",
      "metadata": {
        "id": "DkJTRyxfSIUP"
      },
      "source": [
        "data_train_file = \"/content/fashion-mnist_test.csv\"\r\n",
        "data_test_file = \"/content/fashion-mnist_train.csv\"\r\n",
        "\r\n",
        "df_train = pd.read_csv(data_train_file)\r\n",
        "df_test = pd.read_csv(data_test_file)"
      ],
      "execution_count": 2,
      "outputs": []
    },
    {
      "cell_type": "code",
      "metadata": {
        "id": "Lofb9QxwTaqe"
      },
      "source": [
        "from sklearn.model_selection import train_test_split"
      ],
      "execution_count": 5,
      "outputs": []
    },
    {
      "cell_type": "code",
      "metadata": {
        "colab": {
          "base_uri": "https://localhost:8080/"
        },
        "id": "rqJrfQdlUBo-",
        "outputId": "3c929577-d752-4ba1-bac0-3730a070c461"
      },
      "source": [
        "\r\n",
        "(X_train, Y_train), (X_test, Y_test) = keras.datasets.fashion_mnist.load_data()"
      ],
      "execution_count": 10,
      "outputs": [
        {
          "output_type": "stream",
          "text": [
            "Downloading data from https://storage.googleapis.com/tensorflow/tf-keras-datasets/train-labels-idx1-ubyte.gz\n",
            "32768/29515 [=================================] - 0s 0us/step\n",
            "Downloading data from https://storage.googleapis.com/tensorflow/tf-keras-datasets/train-images-idx3-ubyte.gz\n",
            "26427392/26421880 [==============================] - 0s 0us/step\n",
            "Downloading data from https://storage.googleapis.com/tensorflow/tf-keras-datasets/t10k-labels-idx1-ubyte.gz\n",
            "8192/5148 [===============================================] - 0s 0us/step\n",
            "Downloading data from https://storage.googleapis.com/tensorflow/tf-keras-datasets/t10k-images-idx3-ubyte.gz\n",
            "4423680/4422102 [==============================] - 0s 0us/step\n"
          ],
          "name": "stdout"
        }
      ]
    },
    {
      "cell_type": "code",
      "metadata": {
        "id": "MyGNFwYfVUEX"
      },
      "source": [
        "X_train = X_train.reshape(X_train.shape[0], 784)\r\n",
        "X_test = X_test.reshape(X_test.shape[0], 784)\r\n",
        "Y_train = Y_train.reshape(X_train.shape[0], 1)\r\n",
        "Y_test = Y_test.reshape(X_test.shape[0], 1)"
      ],
      "execution_count": 11,
      "outputs": []
    },
    {
      "cell_type": "code",
      "metadata": {
        "colab": {
          "base_uri": "https://localhost:8080/"
        },
        "id": "LclmflY0VXhG",
        "outputId": "c834b004-749b-485d-8be3-191d013c4677"
      },
      "source": [
        "# Explore the dataset\r\n",
        "print(\"X_train shape:\", X_train.shape)\r\n",
        "print(\"Y_train shape:\", Y_train.shape)\r\n",
        "print(\"X_test shape:\", X_test.shape)\r\n",
        "print(\"Y_test shape:\", Y_test.shape)"
      ],
      "execution_count": 12,
      "outputs": [
        {
          "output_type": "stream",
          "text": [
            "X_train shape: (60000, 784)\n",
            "Y_train shape: (60000, 1)\n",
            "X_test shape: (10000, 784)\n",
            "Y_test shape: (10000, 1)\n"
          ],
          "name": "stdout"
        }
      ]
    },
    {
      "cell_type": "code",
      "metadata": {
        "id": "17mpLkoQVaoY"
      },
      "source": [
        "# normalize the xalues\r\n",
        "X_train = X_train/255.0\r\n",
        "X_test = X_test/255.0"
      ],
      "execution_count": 13,
      "outputs": []
    },
    {
      "cell_type": "code",
      "metadata": {
        "id": "VerdCn02VhFR"
      },
      "source": [
        "mapping = {0: 'T-shirt/top', 1: 'Trouser', 2: 'Pullover', 3: 'Dress', 4: 'Coat', 5: 'Sandal', 6: 'Shirt', 7: 'Sneaker', 8: 'Bag', 9: 'Ankle boot'}"
      ],
      "execution_count": 14,
      "outputs": []
    },
    {
      "cell_type": "code",
      "metadata": {
        "colab": {
          "base_uri": "https://localhost:8080/",
          "height": 281
        },
        "id": "2fCUUaYXVkuG",
        "outputId": "1ce8e748-8e5b-49ab-fc6a-5d4315473fe7"
      },
      "source": [
        "#see any image of the dataset\r\n",
        "i = 0\r\n",
        "img = X_train[i, :]\r\n",
        "img = img.reshape(28, 28)\r\n",
        "plt.imshow(255 - img, cmap = 'gray')\r\n",
        "plt.title(mapping[Y_train[i][0]]);"
      ],
      "execution_count": 15,
      "outputs": [
        {
          "output_type": "display_data",
          "data": {
            "image/png": "[encoded data removed]",
            "text/plain": [
              "<Figure size 432x288 with 1 Axes>"
            ]
          },
          "metadata": {
            "tags": [],
            "needs_background": "light"
          }
        }
      ]
    },
    {
      "cell_type": "code",
      "metadata": {
        "id": "BkrMprpCVndh"
      },
      "source": [
        "from keras.models import Sequential\r\n",
        "from keras.layers import Input, Dense"
      ],
      "execution_count": 17,
      "outputs": []
    },
    {
      "cell_type": "code",
      "metadata": {
        "id": "EO8JtyEzVqsr"
      },
      "source": [
        "# define the model\r\n",
        "model = Sequential()\r\n",
        "model.add(Dense(30, activation = 'relu', input_shape = (784, )))\r\n",
        "model.add(Dense(20, activation = 'relu'))\r\n",
        "model.add(Dense(10, activation = 'softmax'))"
      ],
      "execution_count": 18,
      "outputs": []
    },
    {
      "cell_type": "code",
      "metadata": {
        "colab": {
          "base_uri": "https://localhost:8080/"
        },
        "id": "VbknTk-hVwSH",
        "outputId": "a1094337-0339-48f5-b3dd-8fab9c61301f"
      },
      "source": [
        "# summary of the model\r\n",
        "model.summary()"
      ],
      "execution_count": 19,
      "outputs": [
        {
          "output_type": "stream",
          "text": [
            "Model: \"sequential\"\n",
            "_________________________________________________________________\n",
            "Layer (type)                 Output Shape              Param #   \n",
            "=================================================================\n",
            "dense (Dense)                (None, 30)                23550     \n",
            "_________________________________________________________________\n",
            "dense_1 (Dense)              (None, 20)                620       \n",
            "_________________________________________________________________\n",
            "dense_2 (Dense)              (None, 10)                210       \n",
            "=================================================================\n",
            "Total params: 24,380\n",
            "Trainable params: 24,380\n",
            "Non-trainable params: 0\n",
            "_________________________________________________________________\n"
          ],
          "name": "stdout"
        }
      ]
    },
    {
      "cell_type": "code",
      "metadata": {
        "id": "VJN7S7wQVylp"
      },
      "source": [
        "# compile the model\r\n",
        "model.compile(optimizer = 'adam', loss = 'sparse_categorical_crossentropy', metrics = ['accuracy'])"
      ],
      "execution_count": 20,
      "outputs": []
    },
    {
      "cell_type": "code",
      "metadata": {
        "colab": {
          "base_uri": "https://localhost:8080/"
        },
        "id": "comwClGAV4On",
        "outputId": "8e45d392-c1e6-426d-8f8d-1333643ace44"
      },
      "source": [
        "history = model.fit(X_train, Y_train, epochs = 50, batch_size = 512, validation_split = 0.2)"
      ],
      "execution_count": 21,
      "outputs": [
        {
          "output_type": "stream",
          "text": [
            "Epoch 1/50\n",
            "94/94 [==============================] - 3s 7ms/step - loss: 1.5359 - accuracy: 0.4657 - val_loss: 0.6330 - val_accuracy: 0.7878\n",
            "Epoch 2/50\n",
            "94/94 [==============================] - 0s 4ms/step - loss: 0.5903 - accuracy: 0.8020 - val_loss: 0.5163 - val_accuracy: 0.8229\n",
            "Epoch 3/50\n",
            "94/94 [==============================] - 0s 4ms/step - loss: 0.4910 - accuracy: 0.8320 - val_loss: 0.4696 - val_accuracy: 0.8350\n",
            "Epoch 4/50\n",
            "94/94 [==============================] - 0s 4ms/step - loss: 0.4529 - accuracy: 0.8433 - val_loss: 0.4488 - val_accuracy: 0.8409\n",
            "Epoch 5/50\n",
            "94/94 [==============================] - 1s 6ms/step - loss: 0.4338 - accuracy: 0.8463 - val_loss: 0.4294 - val_accuracy: 0.8504\n",
            "Epoch 6/50\n",
            "94/94 [==============================] - 0s 4ms/step - loss: 0.4139 - accuracy: 0.8543 - val_loss: 0.4178 - val_accuracy: 0.8550\n",
            "Epoch 7/50\n",
            "94/94 [==============================] - 0s 4ms/step - loss: 0.3930 - accuracy: 0.8612 - val_loss: 0.4101 - val_accuracy: 0.8560\n",
            "Epoch 8/50\n",
            "94/94 [==============================] - 0s 4ms/step - loss: 0.3977 - accuracy: 0.8614 - val_loss: 0.4063 - val_accuracy: 0.8554\n",
            "Epoch 9/50\n",
            "94/94 [==============================] - 0s 5ms/step - loss: 0.3814 - accuracy: 0.8657 - val_loss: 0.4035 - val_accuracy: 0.8574\n",
            "Epoch 10/50\n",
            "94/94 [==============================] - 0s 4ms/step - loss: 0.3772 - accuracy: 0.8667 - val_loss: 0.3884 - val_accuracy: 0.8618\n",
            "Epoch 11/50\n",
            "94/94 [==============================] - 0s 4ms/step - loss: 0.3628 - accuracy: 0.8720 - val_loss: 0.3840 - val_accuracy: 0.8635\n",
            "Epoch 12/50\n",
            "94/94 [==============================] - 0s 4ms/step - loss: 0.3621 - accuracy: 0.8724 - val_loss: 0.3795 - val_accuracy: 0.8678\n",
            "Epoch 13/50\n",
            "94/94 [==============================] - 0s 4ms/step - loss: 0.3505 - accuracy: 0.8771 - val_loss: 0.3777 - val_accuracy: 0.8683\n",
            "Epoch 14/50\n",
            "94/94 [==============================] - 0s 5ms/step - loss: 0.3471 - accuracy: 0.8780 - val_loss: 0.3774 - val_accuracy: 0.8683\n",
            "Epoch 15/50\n",
            "94/94 [==============================] - 0s 4ms/step - loss: 0.3438 - accuracy: 0.8797 - val_loss: 0.3781 - val_accuracy: 0.8676\n",
            "Epoch 16/50\n",
            "94/94 [==============================] - 0s 4ms/step - loss: 0.3411 - accuracy: 0.8798 - val_loss: 0.3715 - val_accuracy: 0.8678\n",
            "Epoch 17/50\n",
            "94/94 [==============================] - 0s 4ms/step - loss: 0.3352 - accuracy: 0.8800 - val_loss: 0.3760 - val_accuracy: 0.8677\n",
            "Epoch 18/50\n",
            "94/94 [==============================] - 0s 4ms/step - loss: 0.3307 - accuracy: 0.8855 - val_loss: 0.3686 - val_accuracy: 0.8688\n",
            "Epoch 19/50\n",
            "94/94 [==============================] - 0s 4ms/step - loss: 0.3233 - accuracy: 0.8867 - val_loss: 0.3674 - val_accuracy: 0.8718\n",
            "Epoch 20/50\n",
            "94/94 [==============================] - 0s 4ms/step - loss: 0.3270 - accuracy: 0.8847 - val_loss: 0.3692 - val_accuracy: 0.8690\n",
            "Epoch 21/50\n",
            "94/94 [==============================] - 0s 4ms/step - loss: 0.3225 - accuracy: 0.8859 - val_loss: 0.3637 - val_accuracy: 0.8706\n",
            "Epoch 22/50\n",
            "94/94 [==============================] - 0s 4ms/step - loss: 0.3226 - accuracy: 0.8861 - val_loss: 0.3711 - val_accuracy: 0.8701\n",
            "Epoch 23/50\n",
            "94/94 [==============================] - 0s 4ms/step - loss: 0.3153 - accuracy: 0.8872 - val_loss: 0.3761 - val_accuracy: 0.8695\n",
            "Epoch 24/50\n",
            "94/94 [==============================] - 0s 4ms/step - loss: 0.3109 - accuracy: 0.8881 - val_loss: 0.3686 - val_accuracy: 0.8703\n",
            "Epoch 25/50\n",
            "94/94 [==============================] - 0s 4ms/step - loss: 0.3163 - accuracy: 0.8866 - val_loss: 0.3575 - val_accuracy: 0.8712\n",
            "Epoch 26/50\n",
            "94/94 [==============================] - 0s 4ms/step - loss: 0.3122 - accuracy: 0.8892 - val_loss: 0.3661 - val_accuracy: 0.8716\n",
            "Epoch 27/50\n",
            "94/94 [==============================] - 0s 4ms/step - loss: 0.3083 - accuracy: 0.8909 - val_loss: 0.3591 - val_accuracy: 0.8717\n",
            "Epoch 28/50\n",
            "94/94 [==============================] - 0s 4ms/step - loss: 0.3005 - accuracy: 0.8940 - val_loss: 0.3578 - val_accuracy: 0.8747\n",
            "Epoch 29/50\n",
            "94/94 [==============================] - 0s 4ms/step - loss: 0.3009 - accuracy: 0.8926 - val_loss: 0.3643 - val_accuracy: 0.8709\n",
            "Epoch 30/50\n",
            "94/94 [==============================] - 0s 4ms/step - loss: 0.2983 - accuracy: 0.8947 - val_loss: 0.3594 - val_accuracy: 0.8708\n",
            "Epoch 31/50\n",
            "94/94 [==============================] - 0s 4ms/step - loss: 0.2962 - accuracy: 0.8945 - val_loss: 0.3572 - val_accuracy: 0.8713\n",
            "Epoch 32/50\n",
            "94/94 [==============================] - 0s 4ms/step - loss: 0.2961 - accuracy: 0.8939 - val_loss: 0.3550 - val_accuracy: 0.8757\n",
            "Epoch 33/50\n",
            "94/94 [==============================] - 0s 4ms/step - loss: 0.2835 - accuracy: 0.8990 - val_loss: 0.3601 - val_accuracy: 0.8729\n",
            "Epoch 34/50\n",
            "94/94 [==============================] - 0s 4ms/step - loss: 0.2945 - accuracy: 0.8950 - val_loss: 0.3570 - val_accuracy: 0.8769\n",
            "Epoch 35/50\n",
            "94/94 [==============================] - 0s 5ms/step - loss: 0.2823 - accuracy: 0.8985 - val_loss: 0.3539 - val_accuracy: 0.8754\n",
            "Epoch 36/50\n",
            "94/94 [==============================] - 0s 4ms/step - loss: 0.2840 - accuracy: 0.8977 - val_loss: 0.3565 - val_accuracy: 0.8736\n",
            "Epoch 37/50\n",
            "94/94 [==============================] - 0s 4ms/step - loss: 0.2838 - accuracy: 0.8984 - val_loss: 0.3597 - val_accuracy: 0.8723\n",
            "Epoch 38/50\n",
            "94/94 [==============================] - 0s 4ms/step - loss: 0.2798 - accuracy: 0.8992 - val_loss: 0.3524 - val_accuracy: 0.8774\n",
            "Epoch 39/50\n",
            "94/94 [==============================] - 0s 4ms/step - loss: 0.2748 - accuracy: 0.9013 - val_loss: 0.3571 - val_accuracy: 0.8753\n",
            "Epoch 40/50\n",
            "94/94 [==============================] - 0s 4ms/step - loss: 0.2778 - accuracy: 0.9013 - val_loss: 0.3536 - val_accuracy: 0.8744\n",
            "Epoch 41/50\n",
            "94/94 [==============================] - 0s 4ms/step - loss: 0.2748 - accuracy: 0.9011 - val_loss: 0.3631 - val_accuracy: 0.8741\n",
            "Epoch 42/50\n",
            "94/94 [==============================] - 0s 4ms/step - loss: 0.2707 - accuracy: 0.9024 - val_loss: 0.3591 - val_accuracy: 0.8762\n",
            "Epoch 43/50\n",
            "94/94 [==============================] - 0s 4ms/step - loss: 0.2813 - accuracy: 0.9004 - val_loss: 0.3591 - val_accuracy: 0.8758\n",
            "Epoch 44/50\n",
            "94/94 [==============================] - 0s 4ms/step - loss: 0.2695 - accuracy: 0.9041 - val_loss: 0.3562 - val_accuracy: 0.8762\n",
            "Epoch 45/50\n",
            "94/94 [==============================] - 0s 4ms/step - loss: 0.2691 - accuracy: 0.9033 - val_loss: 0.3530 - val_accuracy: 0.8762\n",
            "Epoch 46/50\n",
            "94/94 [==============================] - 0s 4ms/step - loss: 0.2676 - accuracy: 0.9040 - val_loss: 0.3689 - val_accuracy: 0.8717\n",
            "Epoch 47/50\n",
            "94/94 [==============================] - 0s 4ms/step - loss: 0.2725 - accuracy: 0.9028 - val_loss: 0.3556 - val_accuracy: 0.8774\n",
            "Epoch 48/50\n",
            "94/94 [==============================] - 0s 5ms/step - loss: 0.2655 - accuracy: 0.9052 - val_loss: 0.3560 - val_accuracy: 0.8798\n",
            "Epoch 49/50\n",
            "94/94 [==============================] - 1s 6ms/step - loss: 0.2611 - accuracy: 0.9053 - val_loss: 0.3690 - val_accuracy: 0.8742\n",
            "Epoch 50/50\n",
            "94/94 [==============================] - 0s 4ms/step - loss: 0.2626 - accuracy: 0.9053 - val_loss: 0.3572 - val_accuracy: 0.8767\n"
          ],
          "name": "stdout"
        }
      ]
    },
    {
      "cell_type": "code",
      "metadata": {
        "colab": {
          "base_uri": "https://localhost:8080/"
        },
        "id": "lfkaaltQV7Sg",
        "outputId": "1bdb5a7d-b3b7-4cd8-d725-11e93be3213e"
      },
      "source": [
        "# find the accuracy on train and test set\r\n",
        "train_loss, train_acc = model.evaluate(X_train, Y_train)\r\n",
        "test_loss, test_acc = model.evaluate(X_test, Y_test)\r\n",
        "print(\"Accuracy on train set is %f\" %(train_acc * 100)  + \"%\")\r\n",
        "print(\"Accuracy on validation set is %f\" %(test_acc * 100)  + \"%\")"
      ],
      "execution_count": 22,
      "outputs": [
        {
          "output_type": "stream",
          "text": [
            "1875/1875 [==============================] - 4s 2ms/step - loss: 0.2773 - accuracy: 0.9020\n",
            "313/313 [==============================] - 1s 2ms/step - loss: 0.3757 - accuracy: 0.8691\n",
            "Accuracy on train set is 90.198332%\n",
            "Accuracy on validation set is 86.909997%\n"
          ],
          "name": "stdout"
        }
      ]
    },
    {
      "cell_type": "code",
      "metadata": {
        "id": "WS5mbsYeWBlN"
      },
      "source": [
        ""
      ],
      "execution_count": null,
      "outputs": []
    }
  ]
}